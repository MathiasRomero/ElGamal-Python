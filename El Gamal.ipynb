{
 "cells": [
  {
   "cell_type": "markdown",
   "metadata": {},
   "source": [
    "# Projet Modélisations Mathématiques : La cryptographie El Gamal"
   ]
  },
  {
   "cell_type": "markdown",
   "metadata": {},
   "source": [
    "+ Participants : LEFEBVRE Léo MACHARD Baptiste et ROMERO Mathias\n",
    "+ Professeur durant les TDs : M.Dien"
   ]
  },
  {
   "cell_type": "markdown",
   "metadata": {},
   "source": [
    "# Sommaire\n",
    "\n",
    "- [ ] [I. Introduction](#intro)\n",
    "- [ ] [II. Génération d'un nombre premier](#premier)\n",
    " - [ ] [1) Le test qui n'est pas premier](#paspremier)\n",
    " - [ ] [2) Le test de Miller-Rabin](#miller)\n",
    "   - [ ] [a) Exemple](#exemple)\n",
    " - [ ] [3) Génération d'un nombre premier](#generation)\n",
    "- [ ] [II. Racine primitive modulo p d'un nombre premier](#racine)\n",
    " - [ ] [1) Definition d'une racine primitive modulo p d'un nombre premier](#definition)\n",
    " - [ ] [2) Définition d'un groupe cyclique](#cyclique)\n",
    " - [ ] [3) Generateurs d'un groupe cyclique](#generateur)\n",
    "   - [ ] [a) Exemple de groupe Z/5Z +](#additif)\n",
    "   - [ ] [b) Exemple de groupe Z/5Z *](#multiplicatif)\n",
    "   - [ ] [c) Exemple de graphe Z/42Z](#graphe)\n",
    " - [ ] [4) Différente version du programme](#version)\n",
    " - [ ] [5) Fonctionnement du programme](#fonctionnement_racine)\n",
    " - [ ] [6) Implementation personnelle de la fonction  euler_phi(n)](#implementation)\n",
    "   - [ ] [a) Définition de la fonction](#definition_euler)\n",
    "   - [ ] [b) Implementation de la fonction](#implementation_euler)\n",
    "- [ ] [IV. Transformation d'un message par l'utilisation de grands nombres premiers](#fonctionnement)\n",
    " - [ ] [1) L'encryption](#encryption)\n",
    " - [ ] [2) La décryption](#decryption)\n",
    " - [ ] [3) Les messages textuels](#messages)\n",
    "\n",
    " "
   ]
  },
  {
   "cell_type": "markdown",
   "metadata": {},
   "source": [
    "<a id=\"intro\"></a>\n",
    "## I. Qu'est-ce qu'El Gamal ?\n",
    "\n",
    "\n",
    "\n",
    "Ce système de cryptage est un système inventé par Taher Gamal qui est un protocole de cryptographie asymétrique et construit à partir du problème du logarithme discret.\n",
    "La cryptographie asymétrique est un domaine de la cryptographie dont il y a une distinction entre clé privée et clé publique.\n",
    "Par exemple, on a Monsieur A et Monsieur B.  \n",
    "+ Lorsque Monsieur A veut envoyer un message sécurisé à Monsieur B, Monsieur A doit demander à Monsieur B sa clé publique (clé de chiffrement).  \n",
    "+ Monsieur A utilise cette clé publique pour chiffrer son message puis l'envoie à Monsieur B.  \n",
    "+ Monsieur B utilise sa clé privée (clé de déchiffrement) pour obtenir le contenu du message."
   ]
  },
  {
   "cell_type": "markdown",
   "metadata": {},
   "source": [
    "Concernant le problème de logarithme discret, il est utilisé en cryptographie pour sa complexité de résolution. il notamment utilisé dans les systèmes bluetooth aujourd'hui mais a aussi été utilisé par la machine [enigma](https://fr.wikipedia.org/wiki/Enigma_(machine)).\n",
    "Le principe est simple :\n",
    "Nous utilisons un groupe cyclique multiplicatif de la forme $a^b[p]$ de façon à ce qu'à partir d'un nombre k d'incrémentation de b, les résultats se répètent à chaque fois. La complexité de ce logarithme réside donc dans le fait de retrouver la bonne puissance utilisée parmi un ensemble de résultats qui se répète. Le modulo ici est la partie la plus importante car c'est ce qui permet d'avoir un cycle est donc de rendre la recherche de b exponentiellement plus longue dès que la puissance recherchée deviens \"grande\"."
   ]
  },
  {
   "cell_type": "markdown",
   "metadata": {},
   "source": [
    "<a id=\"premier\"></a>\n",
    "## II. Génération d'un nombre premier"
   ]
  },
  {
   "cell_type": "markdown",
   "metadata": {},
   "source": [
    "Il est important d'avoir un nombre premier pour générer la clé de chiffrement (clé publique) dans le cryptosystème d'ElGamal.\n",
    "Pour générer un nombre premier, il est nécessaire de tester si c'est bien un nombre premier. Pour tester ceci nous allons utiliser le test de Miller-Rabin qui permet de savoir si un nombre n'est **pas** premier avec une précision **k**"
   ]
  },
  {
   "cell_type": "markdown",
   "metadata": {},
   "source": [
    "<a id=\"paspremier\"></a>\n",
    "### 1) Première fonction : le test qui n'est pas premier\n",
    "Ce test de savoir s'il n'est pas premier est composé de deux paramètre le nombre n qu'on veut savoir s'il est pas premier et d'une variable aléatoire a.\n",
    "Si n est inférieur à 3 ou pair, on ne continue pas le test.\n",
    "\n",
    "Après, il faut trouver r et d tel que :  \n",
    "$(r\\cdot2)^d = n-1$  \n",
    "Pour trouver d et r, on dit que $r=n-1$ et $d=0$.  \n",
    "Après cela, r est divisé par 2 tant que le reste est égal à 0.  \n",
    "À chaque division de r, d est incrémenté de 1.  \n",
    "  \n",
    "Lorsque r et d sont trouvés, une variable x sera égal à $(a^r)[n]$.  \n",
    "Si ce x est égal à 1 ou à $n-1$, il est probable que n est premier.  \n",
    "Si ce x est négatif, on redéfini x de cette façon : $(a^2)[n]$  \n",
    "Et si ce x est égal à $n-1$, il est probable que n est premier.  \n",
    "Sinon, n est forcément pas premier.  "
   ]
  },
  {
   "cell_type": "code",
   "execution_count": 2,
   "metadata": {},
   "outputs": [],
   "source": [
    "#n -> Le nombre qu'on veut tester si il est pas premier\n",
    "#a -> Le nombre générer aléatoirement entre 2 et n-2\n",
    "def isNotPrime(n, a):\n",
    "    if(n<3):\n",
    "        print(\"n trop petit (inférieur à 3)\")\n",
    "        return True\n",
    "    if(n%2==0):\n",
    "        print(\"n est pair\")\n",
    "        return True\n",
    "    #Recherche de d et r\n",
    "    stop=False\n",
    "    d, r=0, n-1\n",
    "    #trouvé r et d tel que r>0 et d impair\n",
    "    #r*2^d = n-1\n",
    "    while r % 2 == 0 and stop==False :\n",
    "        d += 1\n",
    "        r //= 2\n",
    "    #x reste de la division de a^r par n\n",
    "    x=pow(a,r,n)\n",
    "    if x==1 or x==n-1:\n",
    "        return False #a n'est pas un témoin de Miller, est probablement premier\n",
    "    for _ in range(d-1): #Pour un x négatif\n",
    "        x=pow(a,2,n)\n",
    "        if x == n-1:\n",
    "            return False #a n'est pas un témoin de Miller, est probablement premier\n",
    "    return True #a est un temoin de Miller, n est composé"
   ]
  },
  {
   "cell_type": "markdown",
   "metadata": {},
   "source": [
    "<a id=\"miller\"></a>\n",
    "### 2) Deuxième fonction : le test de Miller-Rabin\n",
    "Cette précision k signifie le nombre de vérification pour savoir si le nombre n n'est pas premier avec une variable aléatoire."
   ]
  },
  {
   "cell_type": "code",
   "execution_count": 3,
   "metadata": {},
   "outputs": [],
   "source": [
    "import random\n",
    "\n",
    "#Savoir si n n'est pas un nombre premier avec une précision k\n",
    "def MillerTest(n, k) :\n",
    "    for _ in range(k) :\n",
    "        alea = random.randrange(2, n-2)\n",
    "        if(isNotPrime(n, alea)==True):\n",
    "            return False #n est composé\n",
    "    return True #n est probablement premier (k doit être suffisament grand)"
   ]
  },
  {
   "cell_type": "markdown",
   "metadata": {},
   "source": [
    "<a id=\"exemple\"></a>\n",
    "#### a) Un exemple"
   ]
  },
  {
   "cell_type": "code",
   "execution_count": 8,
   "metadata": {},
   "outputs": [
    {
     "data": {
      "text/plain": [
       "True"
      ]
     },
     "execution_count": 8,
     "metadata": {},
     "output_type": "execute_result"
    }
   ],
   "source": [
    "MillerTest(560992320034469143,100000)"
   ]
  },
  {
   "cell_type": "markdown",
   "metadata": {},
   "source": [
    "Si le test retourne **faux**, c'est que le nombre entré est forcément un nombre complexe.  \n",
    "Si le test retourne **vrai**, c'est que le nombre entré est probablement premier avec une précision **k**."
   ]
  },
  {
   "cell_type": "markdown",
   "metadata": {},
   "source": [
    "<a id=\"generation\"></a>\n",
    "### 3) Générer un nombre premier avec le Test de Miller-Rabin"
   ]
  },
  {
   "cell_type": "code",
   "execution_count": 9,
   "metadata": {},
   "outputs": [],
   "source": [
    "def trouvNbPrem():\n",
    "    #générer un nb alétoire forcément impair\n",
    "    lim1 = pow(10,64)+1\n",
    "    lim2 = pow(10,65)+1\n",
    "    prec = pow(10,5)\n",
    "    alea = random.randrange(lim1, lim2, 2)\n",
    "    while(MillerTest(alea,prec)==false):\n",
    "        alea=random.randrange(lim1, lim2, 2)\n",
    "    return alea"
   ]
  },
  {
   "cell_type": "markdown",
   "metadata": {},
   "source": [
    "Notre fonction génère un nombre entre $10^{64}+1$ et $10^{65}+1$.  \n",
    "Tant que ce nombre n'est pas problablement premier avec une précision k de $10^5$ au test de Miller-Rabin, il faut en générer un autre et refaire le test.  \n",
    "Sinon, on retourne le nombre généré."
   ]
  },
  {
   "cell_type": "code",
   "execution_count": 10,
   "metadata": {},
   "outputs": [
    {
     "name": "stdout",
     "output_type": "stream",
     "text": [
      "28989612867757846512309926344262961663446064833805613408082609299\n",
      "CPU times: user 10.4 s, sys: 0 ns, total: 10.4 s\n",
      "Wall time: 10.4 s\n"
     ]
    }
   ],
   "source": [
    "%time print(trouvNbPrem())"
   ]
  },
  {
   "cell_type": "markdown",
   "metadata": {},
   "source": [
    "<a id=\"racine\"></a>\n",
    "## III. Racine primitive modulo p d'un nombre premier"
   ]
  },
  {
   "cell_type": "markdown",
   "metadata": {},
   "source": [
    "<a id=\"definition\"></a>\n",
    "### 1) Definition d'une racine primitive modulo p d'un nombre premier :  \n",
    ">Si n est un entier strictement positif, les nombres premiers avec n, pris modulo n, forment un groupe pour la multiplication, noté $(Z/nZ)×$ ou $Zn×$. Ce groupe est cyclique si et seulement si n est égal à 4 ou $pk$ ou $2pk$ pour un nombre premier $p ≥ 3$ et $k ≥ 02$. Un générateur de ce groupe cyclique est appelé une racine primitive modulo n, ou un élément primitif de $Zn×$. Une racine primitive modulo n est donc un entier g tel que tout inversible dans $Z/nZ$ est une puissance de g modulo n.\n",
    "\n",
    "[source Wikipedia]()"
   ]
  },
  {
   "cell_type": "markdown",
   "metadata": {},
   "source": [
    "<a id=\"cyclique\"></a>\n",
    "### 2) Définition d'un groupe cyclique :\n",
    ">En mathématiques et plus précisément en théorie des groupes, un groupe cyclique est un groupe qui est à la fois fini et monogène, c'est-à-dire qu'il existe un élément a du groupe tel que tout élément du groupe puisse s'exprimer sous forme d'un multiple de a (en notation additive, ou comme puissance en notation multiplicative) ; cet élément a est appelé générateur du groupe.  \n",
    "un groupe d'ordre n est cyclique si et seulement s'il admet un générateur d'ordre n.\n",
    "\n",
    "[source Wikipedia]()"
   ]
  },
  {
   "cell_type": "markdown",
   "metadata": {},
   "source": [
    "<a id=\"generateur\"></a>\n",
    "### 3) Generateurs d'un groupe cyclique  \n",
    "\n",
    "Un groupe cyclique $G$ d'ordre n possède $φ(n)$ générateurs distincts. Plus précisement, si g est un générateur de $G$, les $φ(n)$ générateurs de $G$ sont les éléments $gk$, où $1≤k≤n$ et $pgcd(k,n)=1$\n",
    "\n",
    "Pour les groupes additifs :  \n",
    ">Les générateurs de ce groupe sont tout nombres $k = ${$0,1,2...,n-1$} tel que k est n soit premier  \n",
    "  \n",
    "Pour les groupes multiplicatif :  \n",
    ">Un générateur du groupe $Z/nZ$ se calcule grace à $k^p[n]$ ou k et p sont des nombres allant de 0 à $n-1$. Un nombre k est générateur si les résultats de ses calculs puissance p modulo n, donne $phi(n)$ résultat différent.\n"
   ]
  },
  {
   "cell_type": "markdown",
   "metadata": {},
   "source": [
    "<a id=\"additif\"></a>\n",
    "#### a) Exemple du groupe Z/5Z +\n"
   ]
  },
  {
   "cell_type": "markdown",
   "metadata": {},
   "source": [
    "Le groupe allant de {0,1,2.. à n-1}  \n",
    "\n",
    "$phi(5)$ = **4**\n",
    "\n",
    "|<1>|<2>|<3>|<4>|\n",
    "|:-:|:-:|:-:|:-:|\n",
    "|{0,1,2,3,4}|{0,2,4,1,3}|{0,3,1,4,2}|{4,3,2,1,0}|\n",
    "\n",
    "**1,2,3,4** sont des des générateurs du groupe de $Z/5Z +$"
   ]
  },
  {
   "cell_type": "markdown",
   "metadata": {},
   "source": [
    "<a id=\"multiplicatif\"></a>\n",
    "#### b) Exemple du groupe Z/5Z *"
   ]
  },
  {
   "cell_type": "markdown",
   "metadata": {},
   "source": [
    "Le groupe allant de {0,1,2.. à n-1}  \n",
    "\n",
    "$phi(5)$ = **4**\n",
    "\n",
    "|<1>|<2>|<3>|<4>|\n",
    "|:-:|:-:|:-:|:-:|\n",
    "|{1,1,1,1,1}|{1,2,4,3,1}|{1,3,4,2,1}|{1,4,1,4,1}|\n",
    "\n",
    "**2,3** sont des des générateurs du groupe de $Z/5Z *$"
   ]
  },
  {
   "cell_type": "markdown",
   "metadata": {},
   "source": [
    "<a id=\"graphe\"></a>\n",
    "#### c) Exemple de graph Z/nZ avec n = 42\n"
   ]
  },
  {
   "cell_type": "code",
   "execution_count": 1,
   "metadata": {},
   "outputs": [
    {
     "data": {
      "image/png": "[encoded data removed]",
      "text/plain": [
       "Graphics object consisting of 85 graphics primitives"
      ]
     },
     "execution_count": 1,
     "metadata": {},
     "output_type": "execute_result"
    }
   ],
   "source": [
    "H=Graph({0:[1],1:[2],2:[3],3:[4],4:[5],5:[6],6:[7],7:[8],8:[9],9:[10],10:[11],11:[12],12:[13],13:[14],14:[15],15:[16],16:[17],17:[18],18:[19],19:[20],20:[21],21:[22],22:[23],23:[24],24:[25],25:[26],26:[27],27:[28],28:[29],29:[30],30:[31],31:[32],32:[33],33:[34],34:[35],35:[36],36:[37],37:[38],38:[39],39:[40],40:[41],41:[0] })\n",
    "H.set_pos(H.layout_circular())\n",
    "plot(H)"
   ]
  },
  {
   "cell_type": "markdown",
   "metadata": {},
   "source": [
    "<a id=\"version\"></a>\n",
    "### 4) Différentes versions du programme"
   ]
  },
  {
   "cell_type": "markdown",
   "metadata": {},
   "source": [
    "Pour trouver un générateur d'un groupe G de cardinal n, on parcourt les éléments de ce groupe. Pour chaque élément, on calcule ses puissances $g^k$ pour k entre 1 et n.  \n",
    "Si aucun de ces calculs ne donne le neutre sauf le dernier, c'est que g est un générateur de G (en fait, $g^n$ vaut automatiquement 1 par le théorème de Lagrange).\n",
    "\n",
    "Ce problème explique bien pourquoi le 1er programme crée était inutilisable avec de grands nombres, celui-ci génère énorment de calcul mais permet de récuperer les générateurs d'un groupe."
   ]
  },
  {
   "cell_type": "code",
   "execution_count": 12,
   "metadata": {},
   "outputs": [],
   "source": [
    "def OLDracine(p):\n",
    "    racine = []\n",
    "    phi = Euler(p)\n",
    "    for n in range(1,p):\n",
    "        resultat = []\n",
    "        for x in range(1,p):\n",
    "            resultat.append(pow(n,x,p))\n",
    "        resultat = removeDoublons(resultat)\n",
    "        if(phi == len(resultat)):\n",
    "            racine.append(n)\n",
    "    print(racine)\n",
    "    return racine"
   ]
  },
  {
   "cell_type": "code",
   "execution_count": 22,
   "metadata": {},
   "outputs": [],
   "source": [
    "import random\n",
    "\n",
    "def racineP(p):  \n",
    "    minval = random.randrange(400, p-1)\n",
    "    print(\"minval : \")\n",
    "    print(minval)\n",
    "    if(minval%2 != 1):\n",
    "        minval+= 1\n",
    "    for n in range(minval,p-1,2): #Boucle\n",
    "        if(MillerTest(n, 100000)):\n",
    "            return n\n",
    "    return 0"
   ]
  },
  {
   "cell_type": "code",
   "execution_count": 23,
   "metadata": {},
   "outputs": [
    {
     "name": "stdout",
     "output_type": "stream",
     "text": [
      "minval : \n",
      "388450502183009052\n"
     ]
    },
    {
     "data": {
      "text/plain": [
       "388450502183009111"
      ]
     },
     "execution_count": 23,
     "metadata": {},
     "output_type": "execute_result"
    }
   ],
   "source": [
    "racineP(560992320034469143)"
   ]
  },
  {
   "cell_type": "markdown",
   "metadata": {},
   "source": [
    "**Il est inutile d'essayer le programme avec des valeurs inférieur à 400 car celle-ci pourrait créer des problèmes d'encryption**"
   ]
  },
  {
   "cell_type": "markdown",
   "metadata": {},
   "source": [
    "<a id=\"fonctionnement_racine\"></a>\n",
    "### 5) Fonctionnement du programme  \n",
    "###### Si par exemple nous rentrons la valeur de $36128112 $:  \n",
    "\n",
    "+ Lors des 3 premières lignes de la fonction, le programme va vérifier si la valeur est supérieur à 400 afin de ne pas créer de problèmes par la suite, on stop le programme si la valeur est trop petite.  \n",
    "  \n",
    "+ Sur la 4e ligne de la fonction, nous générons un nombre aléatoire entre 400 et la valeur rentré p afin d'avoir un générateur aléatoire.  \n",
    "  \n",
    "+ Dans les lignes 5 et 6 de la fonction, nous regardons si la valeur random est un nombre impaire, si non, nous lui ajoutons 1, cela permet d'effectuer seulement une boucle sur deux à la prochaine ligne car n doit est premier est donc obligatoirement impaire.  \n",
    "  \n",
    "+ Ligne 7, notre boucle permet de créer une valeur n, commençant a la valeyr random trouvé et allant jusqu'a la valeur p en faisant des pas de 2.  \n",
    "  \n",
    "+ Ligne 8, nous regardons si le nombre n est premier en exécutant le test de Miller avec une précision de 100, si le nombre est 1er on le retourne.  \n",
    "  \n",
    "###### Ce programme permet donc de retourner un générateur tout juste supérieur a une valeur random généré et la valeur rentré en paramètre p"
   ]
  },
  {
   "cell_type": "markdown",
   "metadata": {},
   "source": [
    "<a id=\"implementation\"></a>\n",
    "### 6) Implementation personnelle de la fonction $euler$_ $phi(n)$ "
   ]
  },
  {
   "cell_type": "markdown",
   "metadata": {},
   "source": [
    "<a id=\"definition_euler\"></a>\n",
    "#### a) Definition :\n",
    ">L'indicatrice d'Euler est une fonction arithmétique de la théorie des nombres, qui à tout entier naturel n non nul associe le nombre d'entiers compris entre 1 et n (inclus) et premiers avec n."
   ]
  },
  {
   "cell_type": "markdown",
   "metadata": {},
   "source": [
    "La fonction indicatrice d'Euler (phi) est utilisée en arithmétique modulaire.  \n",
    "Elle est notamment utilisée dans le Théorème d'Euler :\n",
    ">Soit n est un entier supérieur à 1 et a un entier premier avec  n, alors $ a\\cdotφ(n)≡1[n]$\n",
    "\n",
    "Exemple :  \n",
    "$n=7$, $a=3$ et $φ(7)=6$  \n",
    "  \n",
    "alors  \n",
    "  \n",
    "$3^6=729≡1[7]$"
   ]
  },
  {
   "cell_type": "markdown",
   "metadata": {},
   "source": [
    "<a id=\"implementation_euler\"></a>\n",
    "#### b) Implémentation personnelle de la fonction euler_phi(n)"
   ]
  },
  {
   "cell_type": "code",
   "execution_count": 15,
   "metadata": {},
   "outputs": [],
   "source": [
    "def Euler(n):\n",
    "    if(n==1):\n",
    "        return 1\n",
    "    for d in range(2,n+1):\n",
    "        if (n%(d*d))==0:\n",
    "            return d*Euler(n/d)\n",
    "        elif (n%d==0):\n",
    "            return (d-1)*Euler(n/d)"
   ]
  },
  {
   "cell_type": "code",
   "execution_count": 16,
   "metadata": {},
   "outputs": [
    {
     "data": {
      "text/plain": [
       "12"
      ]
     },
     "execution_count": 16,
     "metadata": {},
     "output_type": "execute_result"
    }
   ],
   "source": [
    "Euler(42)"
   ]
  },
  {
   "cell_type": "markdown",
   "metadata": {},
   "source": [
    "Cependant cela n'a pas été retenu en raison de temps et sageMath proposé une fonction plus efficace, la fonction **euler_phi(n)**"
   ]
  },
  {
   "cell_type": "markdown",
   "metadata": {},
   "source": [
    "<a id=\"fonctionnement\"></a>\n",
    "## IV. Transformation d'un message par l'utilisation de grands nombres premiers"
   ]
  },
  {
   "cell_type": "markdown",
   "metadata": {},
   "source": [
    "<a id=\"encryption\"></a>\n",
    "### 1) Première fonction : L'encryption"
   ]
  },
  {
   "cell_type": "code",
   "execution_count": 21,
   "metadata": {},
   "outputs": [
    {
     "name": "stdout",
     "output_type": "stream",
     "text": [
      "Clé privé : 459485266465976725406566907701340003940477940417075271792658492\n",
      "Clé public : p, 58894726360800634450343779631276145056840785162008176389013344223 , g, 44831169729954343432339501741391919025512693750781010250039153211 , y, 14347953909165243940919205842652499175047104267862024607884360360\n"
     ]
    }
   ],
   "source": [
    "import random\n",
    "\n",
    "#clé public\n",
    "Z = IntegerRing()      #permet d'avoir une valeur qui est entière\n",
    "p=Z(trouvNbPrem())     #nombre premier\n",
    "g=racineP(p)\n",
    "\n",
    "#clé privé\n",
    "Cp=random.randrange(1, p-1)\n",
    "print(\"Clé privé :\", Cp)\n",
    "\n",
    "y=pow(p,Cp,g)\n",
    "\n",
    "print(\"Clé public : p,\",p,\", g,\",g,\", y,\",y)\n",
    "\n",
    "def encryption(p,g,y,m):\n",
    "    r=random.randrange(pow(10,2),pow(10,18)) #La variable aléatoire\n",
    "    u=pow(p,r,g)\n",
    "    v=(m*pow(y,r))%g\n",
    "    c=[u,v]    #couple de valeur qui vont servir à la décryption\n",
    "    print(\"u : \",u)\n",
    "    print(\"v : \",v)\n",
    "    return c"
   ]
  },
  {
   "cell_type": "markdown",
   "metadata": {},
   "source": [
    "+ La clé public est composée de nombres entiers ainsi que d'un élément, y, calculé à partir des deux premiers élément de la clé public public et de la clé privé. \n",
    "+ La clé privé quant à elle, est un nombre aléatoire compris entre 1 et $p-1$ que vous pouvez d'ailleurs voir ci-dessus, p étant le premier élément de la clé public. \n",
    "+ Ici, notre message, 53, est encrypté en 2 chiffres, u et v, qui pourront être décoder grâce à la clé privé du receveur.  \n",
    "+ u et v sont tous les deux générés grâce à un paramètre aleatoire et à la clé public."
   ]
  },
  {
   "cell_type": "markdown",
   "metadata": {},
   "source": [
    "<a id=\"decryption\"></a>\n",
    "### 2) Deuxième fonction : La décryption"
   ]
  },
  {
   "cell_type": "code",
   "execution_count": 22,
   "metadata": {},
   "outputs": [
    {
     "name": "stdout",
     "output_type": "stream",
     "text": [
      "u :  37860093053591549278799846563492620766647345341031949906287196039\n",
      "v :  23785532673882732432323663106759257183820896774977171327648045167\n",
      "53\n"
     ]
    }
   ],
   "source": [
    "def decryption(c):\n",
    "    m2=c[1]*pow(c[0],g-1-Cp)%g\n",
    "    return m2\n",
    "\n",
    "msg=53\n",
    "\n",
    "print(decryption(encryption(p,g,y,msg))) #exemple"
   ]
  },
  {
   "cell_type": "markdown",
   "metadata": {},
   "source": [
    "Vous pouvez voir ci-dessus les valeurs de u et v ainsi que le résultat de la décryption, 53, notre message d'origine."
   ]
  },
  {
   "cell_type": "markdown",
   "metadata": {},
   "source": [
    "<a id=\"messages\"></a>\n",
    "### 3) Les messages textuels"
   ]
  },
  {
   "cell_type": "code",
   "execution_count": 23,
   "metadata": {},
   "outputs": [
    {
     "name": "stdout",
     "output_type": "stream",
     "text": [
      "message début : Bonjour Bépitiste \n",
      "\n",
      "Tab message en UTF8 : [66, 111, 110, 106, 111, 117, 114, 32, 66, 233, 112, 105, 116, 105, 115, 116, 101] \n",
      "\n",
      "Tab message en UTF8 encrypté : [[19884545531866720289043063185734130589556236486913382701861493457, 43615849828419402976199472352789146126428292894391290940300919061], [4048212980614435867540966260316054826431562235814808284985844659, 28810904308659464010071148907732500541648996318095277563526704483], [14269114665580586528642963423676404610333116650634813145813281494, 32122163343087638372841556916803071934183992215439117229946171464], [1279388187541770877736892547721481701533365594007048096378886969, 7370628493300245325827450362036545193219578672592211007182601835], [7637356481973430287699909262725274173687760742496904100627709684, 26408388058162978818430043450032898201079834288638073803877339790], [27355742231042968369796038081451964794283915045602097958110713386, 5413817332415339237156679265121146683452378420237127487390404988], [1903097067076931745949443348838978341158753358630278781660547269, 371596034402617573110940915867878724073450326876721466498384852], [4557902339041500683098507824284823953325224582217730744135007403, 24863131540254657012306771877009731054368391700301434637792651230], [15554762937919125101879994714905953932280234479028271841518169130, 2790980065228003942809296849989292717760522420322621489476449450], [6387899489308360415829428910537719789902615835568981425900407891, 30361607421686342337005104298868751569663594277388232785240812385], [21592485484272233675773122422250438723556445817811811714960288687, 34511171250554533404684124843948793527048546565244332265654251700], [42479364147559015236619135143000430274647008430213225452703772222, 36016685754715492671523680124374609107041338454547495266874609733], [43488207862687207082054258477972588761980074788075747568737641843, 13504945916531417014787521774827407391348498172978936455399669301], [31858901736726723407208410045901966234881663713229764348448531835, 3266312694257488338152060196211030673853115151842556993338278641], [5538496808698091591734173262713839063745058530017839824071689343, 44223191642973707143324111556216126202190475965838140667415764278], [20729492066100952602627440205959442249952609795540859104938494318, 8556775279767874301553793618151216600526129855204425669781393475], [38244257126549583192915726027007265896606037983720966975677986150, 20522326587975021506558417780590434352097463792417030819306680804]]\n",
      "\n",
      "Message Decrypté naturellement : Bonjour Bépitiste\n"
     ]
    }
   ],
   "source": [
    "#enlève les prints inutiles de la version précédente\n",
    "def encryption(p,g,y,m):\n",
    "    r=random.randrange(pow(10,2),pow(10,18)) #La variable aléatoire\n",
    "    u=pow(p,r,g)\n",
    "    v=(m*pow(y,r))%g\n",
    "    c=[u,v]    #couple de valeur qui vont servir à la décryption\n",
    "    return c\n",
    "\n",
    "\n",
    "\n",
    "msg='Bonjour Bépitiste'\n",
    "print(\"message début :\",msg,\"\\n\")\n",
    "listM = [ord(c) for c in msg]\n",
    "print(\"Tab message en UTF8 :\",listM,\"\\n\")\n",
    "listME = list()\n",
    "listMD = list()\n",
    "\n",
    "listMEAffich = list()\n",
    "\n",
    "for val in listM :\n",
    "    c = encryption(p,g,y,val)\n",
    "    listME.append(c)\n",
    "    listMEAffich.append(c[0])\n",
    "    listMEAffich.append(c[1])\n",
    "    \n",
    "print(\"Tab message en UTF8 encrypté :\",listME)\n",
    "#print(\"Message encrypté :\",''.join(chr(i) for i in listMEAffich))\n",
    "\n",
    "for val2 in listME :\n",
    "    listMD.append(decryption(val2))\n",
    "\n",
    "print(\"\\nMessage Decrypté naturellement :\",''.join(chr(i) for i in listMD))"
   ]
  },
  {
   "cell_type": "markdown",
   "metadata": {},
   "source": [
    "##### Plusieurs choses se passe ici :  \n",
    "+ Premièrement on sépare chaque charactère du message textuel pour le transformer en code UTF8 et le ranger dans une liste.  \n",
    "  \n",
    "+ Deuxièmement, on lance l'encryption de chaque élément de cette liste. Cela veut donc dire que chaque charactère est séparement encrypté en deux chiffres dans une liste. (cf. fonction d'encryption)  \n",
    "  \n",
    "*(on considère que le message a été envoyé)*  \n",
    "  \n",
    "+ Ensuite, on lance le décryptage de chaque élément de la liste encrypté.  \n",
    "  \n",
    "+ On continue en transformant le code UTF8 en charactère.  \n",
    "  \n",
    "+ On termine en rassemblant tous les charactères en un seul et unique message."
   ]
  }
 ],
 "metadata": {
  "kernelspec": {
   "display_name": "SageMath 9.1",
   "language": "sage",
   "name": "sagemath"
  },
  "language_info": {
   "codemirror_mode": {
    "name": "ipython",
    "version": 3
   },
   "file_extension": ".py",
   "mimetype": "text/x-python",
   "name": "python",
   "nbconvert_exporter": "python",
   "pygments_lexer": "ipython3",
   "version": "3.7.3"
  }
 },
 "nbformat": 4,
 "nbformat_minor": 2
}
