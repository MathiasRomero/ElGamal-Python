{
 "cells": [
  {
   "cell_type": "code",
   "execution_count": null,
   "metadata": {},
   "outputs": [],
   "source": [
    "  "
   ]
  },
  {
   "cell_type": "code",
   "execution_count": 3,
   "metadata": {},
   "outputs": [],
   "source": [
    "s = \"Bonjour Baptiste oui\"\n",
    "tab = [ord(c) for c in s]\n"
   ]
  },
  {
   "cell_type": "code",
   "execution_count": 4,
   "metadata": {},
   "outputs": [
    {
     "data": {
      "text/plain": [
       "'66111110106111117114326697112116105115116101'"
      ]
     },
     "execution_count": 4,
     "metadata": {},
     "output_type": "execute_result"
    }
   ],
   "source": [
    "s = 'Bonjour Baptiste'\n",
    "ligne = ''.join(str(ord(c)) for c in s)\n",
    "ligne"
   ]
  },
  {
   "cell_type": "code",
   "execution_count": 44,
   "metadata": {},
   "outputs": [
    {
     "name": "stdout",
     "output_type": "stream",
     "text": [
      "[66, 111, 110, 106, 111, 117, 114, 32, 66, 97, 112, 116, 105, 115, 116, 101]\n"
     ]
    },
    {
     "data": {
      "text/plain": [
       "'Bonjour Baptiste'"
      ]
     },
     "execution_count": 44,
     "metadata": {},
     "output_type": "execute_result"
    }
   ],
   "source": [
    "#Le plus bon\n",
    "s = 'Bonjour Baptiste'\n",
    "#Mettre chaque lettre converti en UTF8 dans un tableau\n",
    "tab =  [ord(c) for c in s]\n",
    "#Affichage du tableau\n",
    "print(tab)\n",
    "#Mettre en chaine chaque nombre UTF8 à la suite\n",
    "''.join(chr(i) for i in tab)"
   ]
  },
  {
   "cell_type": "code",
   "execution_count": 2,
   "metadata": {},
   "outputs": [
    {
     "name": "stdout",
     "output_type": "stream",
     "text": [
      "Clé privé : 1271032035476470645333126802423\n",
      "Clé public : p, 3583367045528633665816633334003 , g, 76361925020080097789837034683 , y, 16668342917812888503614494243\n"
     ]
    }
   ],
   "source": [
    "import random\n",
    "\n",
    "\n",
    "\n",
    "#clé public\n",
    "p=3583367045528633665816633334003      #nombre premier\n",
    "g=76361925020080097789837034683\n",
    "\n",
    "#clé privé\n",
    "Cp=random.randrange(1, p-1)\n",
    "print(\"Clé privé :\", Cp)\n",
    "\n",
    "\n",
    "#g=331\n",
    "#g=1124239\n",
    "#p=866639       #nombre premier\n",
    "#g=137507       #nombre premier et racine primitive modulo p\n",
    "y=pow(p,Cp,g)\n",
    "\n",
    "print(\"Clé public : p,\",p,\", g,\",g,\", y,\",y)\n",
    "\n",
    "\n",
    "def encryption(p,g,y,m):\n",
    "    #paramètre aléatoire\n",
    "    r=random.randrange(pow(10,2),pow(10,18)) #La variable aléatoire, \n",
    "    u=pow(p,r,g)                              #max 10^18 car sinon trop de risques que la fonction pow plante\n",
    "    v=(m*pow(y,r))%g\n",
    "    c=[u,v]    #couple de valeur qui vont servir à la décryption\n",
    "    #print(\"u : \",u)\n",
    "    #print(\"v : \",v)\n",
    "    return c"
   ]
  },
  {
   "cell_type": "code",
   "execution_count": 3,
   "metadata": {},
   "outputs": [],
   "source": [
    "def decryption(c):\n",
    "    m2=c[1]*pow(c[0],g-1-Cp)%g\n",
    "    return m2"
   ]
  },
  {
   "cell_type": "code",
   "execution_count": 4,
   "metadata": {},
   "outputs": [
    {
     "name": "stdout",
     "output_type": "stream",
     "text": [
      "message début : Bonjour Bépitiste\n",
      "Tab message en UTF8 : [66, 111, 110, 106, 111, 117, 114, 32, 66, 233, 112, 105, 116, 105, 115, 116, 101]\n",
      "Tab message en UTF8 encrypté : [[18511010151148001446448109865, 53970320936676114774644692072], [10217904983495266240437013685, 49730546190007743988255945724], [1895537746017670624021600337, 74377256042036904268915412279], [65874306168725268669826529264, 49901121935514410208589469520], [7866447984723241991545185480, 61421089410561118590580199423], [3077587455568769188542231253, 35699389437441078928345321939], [39180057595556634746068034489, 71449642608231425894055474742], [7228891946375126419722280603, 4996023427774626487088714943], [62454787722973394909246068541, 11853613478705724284198745026], [56640704408039005051544461527, 33582021378771733620530548594], [32015960886923422682364876039, 49395355261107499236057647924], [49223479993943625286348666794, 54243618503933214351535703578], [54709244138837598869579378837, 45350469588924181135585569235], [39198230008477306654321855354, 41666868366376961261884563356], [4950940668545067035123046314, 35322927441732691034512352498], [10411518640474831287673197005, 40297384446160105875978065335], [68415962322216360608089030940, 31150729090231643256601452712]]\n",
      "Message encrypté : 0x3bcff2df09ee6ed7270499290xae63340076d64c0089b714680x21040d8b115b7065f979ccb50xa0b024c6e7a4a5be549bf3fc0x61ff3bb1cefa5ef51cc58510xf0536c9936dfb721eece0d370xd4d9f2ecf4927b2bbe9af7f00xa13d3d9898f1c60a9cab57500x196af927bd32e552847264c80xc6765598c4911534252e8fff0x9f1b87e445ffec462db32d50x7359d7c339570a7523c2d1d30x7e98fbea29158553601263b90xe6ddc256f536e33172c0f6360x175b9969a569b059e3d11e9b0x10249d1cb586ae98ccb414bf0xc9cd63ba91852ba873b1173d0x264d144a4553d12763e073c20xb70417b283e800bf8120e0d70x6c8265a2c4153239f3bb0f720x6772fb6d6402a95b1afd95070x9f9ae1563d42e6d986ab8b340x9f0cb555562650f2492777aa0xaf454503459f7e943951061a0xb0c66d1384b478242ef430950x9289077a93d51194e181e9d30x7ea80412a38d9a54a8a8cb7a0x86a206942cb74ffb662e5f9c0xfff52776f25c1b1f1b8d7aa0x722270d58b3150d1e4dce4f20x21a434d4719d53efd2c091cd0x8235371419bb8e71c15815b70xdd105b8d1f25bfc06490c11c0x64a74777b4f2a48cc52020a8\n",
      "Message Decrypté naturellement : Bonjour Bépitiste\n"
     ]
    }
   ],
   "source": [
    "msg='Bonjour Bépitiste'\n",
    "print(\"message début :\",msg)\n",
    "listM = [ord(c) for c in msg]\n",
    "print(\"Tab message en UTF8 :\",listM)\n",
    "listME = list()\n",
    "listMD = list()\n",
    "\n",
    "listMEAffich = list()\n",
    "\n",
    "for val in listM :\n",
    "    c = encryption(p,g,y,val)\n",
    "    listME.append(c)\n",
    "    listMEAffich.append(c[0])\n",
    "    listMEAffich.append(c[1])\n",
    "    \n",
    "print(\"Tab message en UTF8 encrypté :\",listME)\n",
    "print(\"Message encrypté :\",''.join(hex(i) for i in listMEAffich))\n",
    "\n",
    "for val2 in listME :\n",
    "    listMD.append(decryption(val2))\n",
    "\n",
    "print(\"Message Decrypté naturellement :\",''.join(chr(i) for i in listMD))"
   ]
  },
  {
   "cell_type": "code",
   "execution_count": null,
   "metadata": {},
   "outputs": [],
   "source": []
  },
  {
   "cell_type": "code",
   "execution_count": null,
   "metadata": {},
   "outputs": [],
   "source": []
  }
 ],
 "metadata": {
  "kernelspec": {
   "display_name": "SageMath 9.1",
   "language": "sage",
   "name": "sagemath"
  },
  "language_info": {
   "codemirror_mode": {
    "name": "ipython",
    "version": 3
   },
   "file_extension": ".py",
   "mimetype": "text/x-python",
   "name": "python",
   "nbconvert_exporter": "python",
   "pygments_lexer": "ipython3",
   "version": "3.7.3"
  }
 },
 "nbformat": 4,
 "nbformat_minor": 2
}
