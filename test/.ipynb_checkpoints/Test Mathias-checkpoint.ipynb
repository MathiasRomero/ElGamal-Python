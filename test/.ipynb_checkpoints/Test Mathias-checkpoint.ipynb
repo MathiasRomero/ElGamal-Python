{
 "cells": [
  {
   "cell_type": "markdown",
   "metadata": {},
   "source": [
    "<h1> Feuille de test de Mathias Romero <h1>"
   ]
  },
  {
   "cell_type": "markdown",
   "metadata": {},
   "source": [
    "   <h4> Fonction util </h4>"
   ]
  },
  {
   "cell_type": "code",
   "execution_count": 8,
   "metadata": {},
   "outputs": [],
   "source": [
    "import random\n",
    "\n",
    "def MillerTest(n, k) :\n",
    "    for _ in range(k) :\n",
    "        alea = random.randrange(2, n-2)\n",
    "        if(isNotPrime(n, alea)==True):\n",
    "            return False #n est composé\n",
    "    return True #n est probablement premier (k doit être suffisament grand)"
   ]
  },
  {
   "cell_type": "code",
   "execution_count": 9,
   "metadata": {},
   "outputs": [],
   "source": [
    "def isNotPrime(n, a):\n",
    "    if(n<3):\n",
    "        #print(\"n trop petit (inférieur à 3)\")\n",
    "        return True\n",
    "    if(n%2==0):\n",
    "        #print(\"n est pair\")\n",
    "        return True\n",
    "    #Recherche de d et r\n",
    "    stop=False\n",
    "    d, r=0, n-1\n",
    "    #trouvé r et d tel que r>0 et d impair\n",
    "    #r*2^d = n-1\n",
    "    while r % 2 == 0 and stop==False :\n",
    "        d += 1\n",
    "        r //= 2\n",
    "    #x reste de la division de a^r par n\n",
    "    x=pow(a,r,n)\n",
    "    if x==1 or x==n-1:\n",
    "        return False #a n'est pas un témoin de Miller, est probablement premier\n",
    "        for _ in range(d-1): #Pour un x négatif\n",
    "            x=pow(a,2,n)\n",
    "            if x == n-1:\n",
    "                return False #a n'est pas un témoin de Miller, est probablement premier\n",
    "    return True #a est un temoin de Miller, n est composé"
   ]
  },
  {
   "cell_type": "code",
   "execution_count": 14,
   "metadata": {},
   "outputs": [],
   "source": [
    "def removeDoublons(test_list):\n",
    "    res = [] \n",
    "    for i in test_list: \n",
    "        if i not in res: \n",
    "            res.append(i) \n",
    "    return res"
   ]
  },
  {
   "cell_type": "code",
   "execution_count": 15,
   "metadata": {},
   "outputs": [],
   "source": [
    "def PGCD(a,b):\n",
    "    while a != b:\n",
    "        if a > b:\n",
    "            a -= b\n",
    "        else:\n",
    "            b -= a\n",
    "    return a"
   ]
  },
  {
   "cell_type": "code",
   "execution_count": 16,
   "metadata": {},
   "outputs": [],
   "source": [
    "def estPremier(a,b):\n",
    "    return PGCD(a,b)==1"
   ]
  },
  {
   "cell_type": "markdown",
   "metadata": {},
   "source": [
    "\n",
    "\n",
    "<h3> Facteur premier de n </h3>"
   ]
  },
  {
   "cell_type": "code",
   "execution_count": 38,
   "metadata": {},
   "outputs": [],
   "source": [
    "def facteur(n):\n",
    "    if n==1:\n",
    "        return set([])\n",
    "    else:\n",
    "        for k in range(2,n+1):\n",
    "            if n%k == 0:\n",
    "                L = facteur(n/k)\n",
    "                return L.union([k])"
   ]
  },
  {
   "cell_type": "code",
   "execution_count": 39,
   "metadata": {},
   "outputs": [
    {
     "data": {
      "text/plain": [
       "[2, 3, 7]"
      ]
     },
     "execution_count": 39,
     "metadata": {},
     "output_type": "execute_result"
    }
   ],
   "source": [
    "list(facteur(42))"
   ]
  },
  {
   "cell_type": "markdown",
   "metadata": {},
   "source": [
    "<h3> Racine primitive module p </h3>"
   ]
  },
  {
   "cell_type": "markdown",
   "metadata": {},
   "source": [
    "<b>Definition :</b> Si n est un entier strictement positif, les nombres premiers avec n, pris modulo n, forment un groupe pour la multiplication, noté (Z/nZ)× ou Zn×. Ce groupe est cyclique si et seulement si n est égal à 4 ou pk ou 2pk pour un nombre premier p ≥ 3 et k ≥ 02. Un générateur de ce groupe cyclique est appelé une racine primitive modulo n, ou un élément primitif3 de Zn×. Une racine primitive modulo n est donc un entier g tel que tout inversible dans Z/nZ est une puissance de g modulo n.\n",
    "\n",
    "<i>source Wikipedia</i>"
   ]
  },
  {
   "cell_type": "markdown",
   "metadata": {},
   "source": [
    "<b>Définition d'un groupe cyclique :</b> En mathématiques et plus précisément en théorie des groupes, un groupe cyclique est un groupe qui est à la fois fini et monogène, c'est-à-dire qu'il existe un élément a du groupe tel que tout élément du groupe puisse s'exprimer sous forme d'un multiple de a (en notation additive, ou comme puissance en notation multiplicative) ; cet élément a est appelé générateur du groupe.\n",
    "\n",
    "un groupe d'ordre n est cyclique si et seulement s'il admet un générateur d'ordre n.\n",
    "\n",
    "<i>source Wikipedia</i>"
   ]
  },
  {
   "cell_type": "code",
   "execution_count": 77,
   "metadata": {},
   "outputs": [],
   "source": [
    "\n",
    "import random\n",
    "\n",
    "def racineP(p):  \n",
    "    racine = set()\n",
    "    phi = p-1\n",
    "    for n in range(2,p-1): #Boucle\n",
    "        resultat = set()\n",
    "        for x in range(2,p-1): #Boucle\n",
    "            #if (MillerTest(pow(n,x,p),10)):\n",
    "                resultat.add(pow(n,x,p))\n",
    "        if(phi == len(resultat)):\n",
    "            racine.add(n)\n",
    "            if(len(racine) == 3):\n",
    "                return racine\n",
    "    print(racine)\n",
    "    return racine\n",
    "    \n",
    "    \n",
    "def racineP2(p):  \n",
    "    racine = set()\n",
    "    phi = Euler(p)\n",
    "    for n in range(50,p-1): #Boucle\n",
    "        resultat = set()\n",
    "        for x in range(1,p): #Boucle\n",
    "            resultat.add(pow(n,x,p))\n",
    "        if(phi == len(resultat)):\n",
    "            if(MillerTest(n, 10)):\n",
    "                racine.add(n)\n",
    "            if(len(racine) == 30):\n",
    "                return racine\n",
    "    racine = sorted(racine, key=int)\n",
    "    print(racine)\n",
    "    return racine\n",
    "\n",
    "\n",
    "def racineP3(p): \n",
    "    if(p < 350):\n",
    "        print(\"nombre trop petit\")\n",
    "        return \n",
    "    minval = random.randrange(400, p-1) #\n",
    "    if(minval%2 != 1):\n",
    "        minval+= 1\n",
    "    for n in range(minval,p-1,2): #Boucle\n",
    "        if(MillerTest(n, 100)):\n",
    "            print(n)\n",
    "            return(n)\n",
    "    print(n)\n",
    "    return n\n",
    "\n",
    "\n",
    "def racineP4(p): \n",
    "    phi = euler_phi(p)\n",
    "    minval = random.randrange(1, p-1) #\n",
    "    if(minval%2 != 1):\n",
    "        minval+= 1\n",
    "    for n in range(minval,p-1,2): #Boucle\n",
    "        if(MillerTest(n, 100)):\n",
    "            print(n)\n",
    "            return(n)\n",
    "\n",
    "    print(n)\n",
    "    return n\n",
    "\n",
    "\n",
    "                "
   ]
  },
  {
   "cell_type": "markdown",
   "metadata": {},
   "source": [
    "<h3> Il est inutile d'essayer le programme avec des valeurs inférieur à 400 car celle-ci pourrait créer des problèmes d'encryption </h3>\n",
    "\n"
   ]
  },
  {
   "cell_type": "markdown",
   "metadata": {},
   "source": [
    "<h2> Fonctionnement du programme </h2>\n",
    "<br>\n",
    "<h8> Si par exemple nous rentrons la valeur de 36128112 : <br>\n",
    "    - Lors des 3 premières lignes de la fonction, le programme va vérifier si la valeur est supérieur à 400 afin de ne pas créer de problèmes par la suite, on stop le programme si la valeur est trop petite<br>\n",
    "    - sur la 4e ligne de la fonction, nous générons un nombre aléatoire entre 400 et la valeur rentré p afin d'avoir un générateur aléatoire<br><br>\n",
    "    - Dans les lignes 5 et 6 de la fonction, nous regardons si la valeur random est un nombre impaire, si non, nous lui ajoutons 1, cela permet d'effectuer seulement une boucle sur deux à la prochaine ligne car n doit est premier est donc obligatoirement impaire<br><br>\n",
    "    - Ligne 7, notre boucle permet de créer une valeur n, commençant a la valeyr random trouvé et allant jusqu'a la valeur p en faisant des pas de 2<br><br>\n",
    "    - Ligne 8, nous regardons si le nombre n est premier en exécutant le test de Miller avec une précision de 100, si le nombre est 1er on le retourne<br><br></h8>\n",
    "    <h6>- Ce programme permet donc de retourner un générateur tout juste supérieur a une valeur random généré et la valeur rentré en paramètre p</h6>"
   ]
  },
  {
   "cell_type": "markdown",
   "metadata": {},
   "source": [
    "<h3>1er version du programme</h3>"
   ]
  },
  {
   "cell_type": "markdown",
   "metadata": {},
   "source": [
    "Pour trouver un générateur d'un groupe G de cardinal n, on parcourt les éléments de ce groupe. Pour chaque élément, on calcule ses puissances g^k pour k entre 1 et n. Si aucun de ces calculs ne donne le neutre sauf le dernier, c'est que g est un générateur de G (en fait, g^n vaut automatiquement 1 par le théorème de Lagrange).\n",
    "\n",
    "Ce problème explique bien pourquoi le 1er programme crée était inutilisable avec de grands nombres, celui-ci génère énorment de calcul."
   ]
  },
  {
   "cell_type": "markdown",
   "metadata": {},
   "source": [
    "<h3>Les générateur d'un groupe Z/nZ<h3>\n",
    "    "
   ]
  },
  {
   "cell_type": "markdown",
   "metadata": {},
   "source": [
    "<label>Un groupe cyclique G d'ordre n possède φ(n) générateurs distincts. Plus précisement, si g est un générateur de G, les φ(n) générateurs de G sont les éléments gk, où 1≤k≤n et pgcd(k,n)=1</label>\n",
    "    \n",
    "<br>\n",
    "<label>Pour les groupes additifs :\n",
    "Les générateurs de ce groupe sont tout nombres k = {0,1,2...,n-1} tel que k est n soit premier</label>\n",
    "<br>\n",
    "<label>Pour les groupes multiplicatif :\n",
    "</label>"
   ]
  },
  {
   "cell_type": "markdown",
   "metadata": {},
   "source": [
    "<h4>Exemple de générateur d'un groupe cyclique Z/42z<h4>"
   ]
  },
  {
   "cell_type": "markdown",
   "metadata": {},
   "source": [
    "Pour Z/42z\n",
    "\n",
    " phi(42) = 12 <b> | Il y a donc 12 générateurs pour ce groupe.</b>\n",
    "\n",
    "\n",
    "\n"
   ]
  },
  {
   "cell_type": "code",
   "execution_count": 52,
   "metadata": {},
   "outputs": [
    {
     "data": {
      "image/png": "[encoded data removed]",
      "text/plain": [
       "Graphics object consisting of 1 graphics primitive"
      ]
     },
     "metadata": {},
     "output_type": "display_data"
    }
   ],
   "source": [
    "p = RDF.pi()\n",
    "n = 42\n",
    "pol = polygon([(cos(2*k*p/n), sin(2*k*p/n)) for k in range(n)], fill=False)\n",
    "pol.show()"
   ]
  },
  {
   "cell_type": "code",
   "execution_count": 30,
   "metadata": {},
   "outputs": [],
   "source": [
    "def inversibles(n):\n",
    "    L = []\n",
    "    for k in range(1,n):\n",
    "        for l in range(1,n):\n",
    "            if (l,k) in L:\n",
    "                pass\n",
    "            if k*l%n == 1:\n",
    "                L.append((k,l))\n",
    "                break\n",
    "    return L\n",
    "\n",
    "def linversibles(n):\n",
    "    for k in range(2,n+1):\n",
    "        print( inversibles(k))"
   ]
  },
  {
   "cell_type": "code",
   "execution_count": 82,
   "metadata": {},
   "outputs": [
    {
     "name": "stdout",
     "output_type": "stream",
     "text": [
      "12\n",
      "7\n",
      "---\n",
      "nombre trop petit\n",
      "---\n",
      "431\n",
      "---\n",
      "419\n",
      "3105471966307882870950898429847\n",
      "CPU times: user 78 ms, sys: 0 ns, total: 78 ms\n",
      "Wall time: 77.3 ms\n"
     ]
    },
    {
     "data": {
      "text/plain": [
       "3105471966307882870950898429847"
      ]
     },
     "execution_count": 82,
     "metadata": {},
     "output_type": "execute_result"
    }
   ],
   "source": [
    "#print(Euler(7))# phi(7) = 6, \n",
    "#print(racineP(3,7)) # 3 est racine primitive modulo 7\n",
    "#print (racineP(3,7)) # 3 est racine primitive modulo 7\n",
    "#linversibles(15)\n",
    "#facteurPremier(600851475143)\n",
    "\n",
    "\n",
    "\n",
    "racineP4(42)  #{7,11,19,31,39,41}\n",
    "print(\"---\")\n",
    "racineP3(89)\n",
    "print(\"---\")\n",
    "racineP3(439)\n",
    "print(\"---\")\n",
    "racineP3(439)\n",
    "%time racineP3(3583367045528633665816633334003) #28 minutes -> {613}\n",
    "#%time racineP3(22877,1000) #13.8\n",
    "\n",
    "#%time racineP3(92177,500) #331"
   ]
  },
  {
   "cell_type": "code",
   "execution_count": 57,
   "metadata": {},
   "outputs": [],
   "source": [
    "G = CyclicPermutationGroup(42)"
   ]
  },
  {
   "cell_type": "raw",
   "metadata": {},
   "source": []
  },
  {
   "cell_type": "markdown",
   "metadata": {},
   "source": [
    "<h3> Indicatrice d'Euler <h3>"
   ]
  },
  {
   "cell_type": "markdown",
   "metadata": {},
   "source": [
    "<b>Definition :</b>  l'indicatrice d'Euler est une fonction arithmétique de la théorie des nombres, qui à tout entier naturel n non nul associe le nombre d'entiers compris entre 1 et n (inclus) et premiers avec n."
   ]
  },
  {
   "cell_type": "markdown",
   "metadata": {},
   "source": [
    "La fonction indicatrice d'Euler (phi) est utilisée en arithmétique modulaire. Elle est notamment utilisée dans le Théorème d'Euler :\n",
    "\n",
    "Soit \n",
    "n\n",
    " est un entier supérieur à 1 et \n",
    "a\n",
    " un entier premier avec \n",
    "n\n",
    ", alors\n",
    "a\n",
    "φ\n",
    "(\n",
    "n\n",
    ")\n",
    "≡\n",
    "1\n",
    "mod\n",
    "n\n",
    "\n",
    "Exemple : \n",
    "n\n",
    "=\n",
    "7\n",
    " , \n",
    "a\n",
    "=\n",
    "3\n",
    " et \n",
    "φ\n",
    "(\n",
    "7\n",
    ")\n",
    "=\n",
    "6\n",
    " alors \n",
    "3\n",
    "^6\n",
    "=\n",
    "729\n",
    "≡\n",
    "1\n",
    "mod\n",
    "7"
   ]
  },
  {
   "cell_type": "code",
   "execution_count": 41,
   "metadata": {},
   "outputs": [],
   "source": [
    "def Euler(n):\n",
    "    if(n==1):\n",
    "        return 1\n",
    "    for d in range(2,n+1):\n",
    "        if (n%(d*d))==0:\n",
    "            return d*Euler(n/d)\n",
    "        elif (n%d==0):\n",
    "            return (d-1)*Euler(n/d)\n",
    "    "
   ]
  },
  {
   "cell_type": "code",
   "execution_count": 115,
   "metadata": {},
   "outputs": [],
   "source": [
    "def eratosthene(n):\n",
    "    \"retourne la tableau des nombres premiers <= n (crible d'eratosthene)\"\n",
    "    n += 1\n",
    "    tableau = [0,0] + [i for i in range(2, n)]\n",
    "    for i in range(2, n):\n",
    "        if tableau[i] != 0:\n",
    "            # c'est un nombre 1er: on garde, mais on neutralise ses multiples\n",
    "            for j in range(i*2, n, i):\n",
    "                tableau[j] = 0\n",
    "    return [p for p in tableau if p!=0]  "
   ]
  },
  {
   "cell_type": "code",
   "execution_count": 42,
   "metadata": {},
   "outputs": [
    {
     "name": "stdout",
     "output_type": "stream",
     "text": [
      "12\n",
      "CPU times: user 0 ns, sys: 0 ns, total: 0 ns\n",
      "Wall time: 1.68 ms\n"
     ]
    }
   ],
   "source": [
    "%time print(Euler(42)) \n",
    "#print(eratosthene(100))"
   ]
  },
  {
   "cell_type": "markdown",
   "metadata": {},
   "source": [
    "<h3> Generation des clés </h3>"
   ]
  },
  {
   "cell_type": "markdown",
   "metadata": {},
   "source": [
    "Pour générer les clés publiques, et privé, nous récupérons donc un nombre premier <b>p</b>; un nombre <b>g</b> entre {1..,p-1}\n",
    "\n",
    "le nombre <b>a</b> correspond à notre clé privé."
   ]
  },
  {
   "cell_type": "code",
   "execution_count": 76,
   "metadata": {},
   "outputs": [],
   "source": [
    "def cles(p,g,a):\n",
    "    A = pow(g,a,p)\n",
    "    publique = (p,g,A)\n",
    "    prive = a\n",
    "    return (publique,prive)"
   ]
  },
  {
   "cell_type": "code",
   "execution_count": 77,
   "metadata": {},
   "outputs": [
    {
     "name": "stdout",
     "output_type": "stream",
     "text": [
      "((5077, 4851, 4488), 159)\n"
     ]
    }
   ],
   "source": [
    "#essaie numéro 1\n",
    "print(cles(5077,4851,159))"
   ]
  },
  {
   "cell_type": "code",
   "execution_count": null,
   "metadata": {},
   "outputs": [],
   "source": []
  },
  {
   "cell_type": "code",
   "execution_count": null,
   "metadata": {},
   "outputs": [],
   "source": []
  }
 ],
 "metadata": {
  "kernelspec": {
   "display_name": "SageMath 9.1",
   "language": "sage",
   "name": "sagemath"
  },
  "language_info": {
   "codemirror_mode": {
    "name": "ipython",
    "version": 3
   },
   "file_extension": ".py",
   "mimetype": "text/x-python",
   "name": "python",
   "nbconvert_exporter": "python",
   "pygments_lexer": "ipython3",
   "version": "3.7.3"
  }
 },
 "nbformat": 4,
 "nbformat_minor": 2
}
