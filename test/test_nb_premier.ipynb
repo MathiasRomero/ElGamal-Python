{
 "cells": [
  {
   "cell_type": "markdown",
   "metadata": {},
   "source": [
    "<h1> Test génération d'un nombre premier </h1>"
   ]
  },
  {
   "cell_type": "markdown",
   "metadata": {},
   "source": [
    "<p> Test de Miller-Rabin </p>"
   ]
  },
  {
   "cell_type": "code",
   "execution_count": 10,
   "metadata": {},
   "outputs": [],
   "source": [
    "import random\n",
    "\n",
    "#Savoir si n n'est pas un nombre premier avec une précision k\n",
    "def MillerTest(n, k) :\n",
    "    for _ in range(k) :\n",
    "        alea = random.randrange(2, n-2)\n",
    "        if(isNotPrime(n, alea)==True):\n",
    "            return False #n est composé\n",
    "    return True #n est probablement premier (k doit être suffisament grand)\n",
    "        \n",
    "    "
   ]
  },
  {
   "cell_type": "code",
   "execution_count": 11,
   "metadata": {},
   "outputs": [],
   "source": [
    "def isNotPrime(n, a):\n",
    "    if(n<3):\n",
    "        print(\"n trop petit (inférieur à 3)\")\n",
    "        return True\n",
    "    if(n%2==0):\n",
    "        print(\"n est pair\")\n",
    "        return True\n",
    "    #Recherche de d et r\n",
    "    stop=False\n",
    "    d, r=0, n-1\n",
    "    #trouvé r et d tel que r>0 et d impair\n",
    "    #r*2^d = n-1\n",
    "    while r % 2 == 0 and stop==False :\n",
    "        d += 1\n",
    "        r //= 2\n",
    "    #x reste de la division de a^r par n\n",
    "    x=pow(a,r,n)\n",
    "    if x==1 or x==n-1:\n",
    "        return False #a n'est pas un témoin de Miller, est probablement premier\n",
    "    for _ in range(d-1): #Pour un x négatif\n",
    "        x=pow(a,2,n)\n",
    "        if x == n-1:\n",
    "            return False #a n'est pas un témoin de Miller, est probablement premier\n",
    "    return True #a est un temoin de Miller, n est composé\n",
    "                \n",
    "            "
   ]
  },
  {
   "cell_type": "code",
   "execution_count": null,
   "metadata": {},
   "outputs": [],
   "source": []
  },
  {
   "cell_type": "code",
   "execution_count": 12,
   "metadata": {
    "scrolled": false
   },
   "outputs": [
    {
     "data": {
      "text/plain": [
       "True"
      ]
     },
     "execution_count": 12,
     "metadata": {},
     "output_type": "execute_result"
    }
   ],
   "source": [
    "MillerTest(560992320034469143,10)"
   ]
  },
  {
   "cell_type": "code",
   "execution_count": 51,
   "metadata": {},
   "outputs": [],
   "source": [
    "import random\n",
    "\n",
    "def trouvNbPrem():\n",
    "    #générer un nb alétoire forcément impair\n",
    "    lim1 = pow(10,64)+1\n",
    "    lim2 = pow(10,65)+1\n",
    "    prec = pow(10,5)\n",
    "    alea = random.randrange(lim1, lim2, 2)\n",
    "    while(MillerTest(alea,prec)==false):\n",
    "        alea=random.randrange(lim1, lim2, 2)\n",
    "    return alea"
   ]
  },
  {
   "cell_type": "code",
   "execution_count": 52,
   "metadata": {},
   "outputs": [
    {
     "name": "stdout",
     "output_type": "stream",
     "text": [
      "27027385093732796329410073349453253058642020987021830868130802479\n",
      "CPU times: user 9.41 s, sys: 15 ms, total: 9.42 s\n",
      "Wall time: 9.42 s\n"
     ]
    }
   ],
   "source": [
    "%time print(trouvNbPrem())"
   ]
  },
  {
   "cell_type": "code",
   "execution_count": null,
   "metadata": {},
   "outputs": [],
   "source": []
  }
 ],
 "metadata": {
  "kernelspec": {
   "display_name": "SageMath 9.1",
   "language": "sage",
   "name": "sagemath"
  },
  "language_info": {
   "codemirror_mode": {
    "name": "ipython",
    "version": 3
   },
   "file_extension": ".py",
   "mimetype": "text/x-python",
   "name": "python",
   "nbconvert_exporter": "python",
   "pygments_lexer": "ipython3",
   "version": "3.7.3"
  }
 },
 "nbformat": 4,
 "nbformat_minor": 2
}
