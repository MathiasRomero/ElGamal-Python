{
 "cells": [
  {
   "cell_type": "code",
   "execution_count": 38,
   "metadata": {},
   "outputs": [
    {
     "name": "stdout",
     "output_type": "stream",
     "text": [
      "53\n"
     ]
    }
   ],
   "source": [
    "#clé privé\n",
    "Cp=90000\n",
    "\n",
    "#clé public\n",
    "p=866639     \n",
    "g=883391\n",
    "y=pow(p,Cp,g)\n",
    "\n",
    "#parmètre aléatoire\n",
    "r=894513\n",
    "\n",
    "\n",
    "\n",
    "def encryption(p,g,y,m):\n",
    "    u=pow(p,r,g)\n",
    "    v=(m*pow(y,r))%g\n",
    "    c=[u,v]\n",
    "    return c\n",
    "\n",
    "\n",
    "def decryption(c):\n",
    "    m2=c[1]*pow(c[0],g-1-Cp)%g\n",
    "    return m2\n",
    "\n",
    "print(decryption(encryption(p,g,y,53)))"
   ]
  },
  {
   "cell_type": "code",
   "execution_count": null,
   "metadata": {},
   "outputs": [],
   "source": []
  }
 ],
 "metadata": {
  "kernelspec": {
   "display_name": "Python 3",
   "language": "python",
   "name": "python3"
  },
  "language_info": {
   "codemirror_mode": {
    "name": "ipython",
    "version": 3
   },
   "file_extension": ".py",
   "mimetype": "text/x-python",
   "name": "python",
   "nbconvert_exporter": "python",
   "pygments_lexer": "ipython3",
   "version": "3.7.3"
  }
 },
 "nbformat": 4,
 "nbformat_minor": 2
}
